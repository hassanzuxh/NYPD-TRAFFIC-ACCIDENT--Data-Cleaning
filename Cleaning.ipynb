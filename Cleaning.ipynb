{
 "cells": [
  {
   "cell_type": "markdown",
   "metadata": {},
   "source": [
    "# NYPD TRAFFICK ACCIDENT\n",
    "As a Data Analyst i was given a task to clean the data gathered by New York Police Department concerning Accident occurrences from January- December 2018. Each record represent an individual accident including the Date, Time, Geographical Information(such as: Borough, location,off_street, cross_street and on_street) of the accident, type of vehicle involved, the severity of the accident and the cause of the accident. \n",
    "- this data can be used to identify trends in the frequency of accident occurences in a specific area or even a certain period.\n",
    "- we can identify the patterns in times of the day when accidents  most likely occurs.\n",
    "- which area has the highest number of accidents leading to death or injury.\n",
    "- we can also know how aware the public is to safe driving practices and also how effective traffic control is.\n",
    "\n",
    "\n",
    "\n"
   ]
  },
  {
   "cell_type": "markdown",
   "metadata": {},
   "source": [
    "                                                                        DATA EXPLORATION"
   ]
  },
  {
   "cell_type": "code",
   "execution_count": 53,
   "metadata": {},
   "outputs": [],
   "source": [
    "# importing relevant libaries\n",
    "import pandas as pd\n",
    "import numpy as np\n",
    "import missingno as ms\n",
    "import datetime as dt\n"
   ]
  },
  {
   "cell_type": "code",
   "execution_count": 54,
   "metadata": {},
   "outputs": [],
   "source": [
    "# to see the full length of the columns in our dataframe\n",
    "pd.set_option(\"display.max.columns\", 30)"
   ]
  },
  {
   "cell_type": "code",
   "execution_count": 55,
   "metadata": {},
   "outputs": [
    {
     "data": {
      "text/html": [
       "<div>\n",
       "<style scoped>\n",
       "    .dataframe tbody tr th:only-of-type {\n",
       "        vertical-align: middle;\n",
       "    }\n",
       "\n",
       "    .dataframe tbody tr th {\n",
       "        vertical-align: top;\n",
       "    }\n",
       "\n",
       "    .dataframe thead th {\n",
       "        text-align: right;\n",
       "    }\n",
       "</style>\n",
       "<table border=\"1\" class=\"dataframe\">\n",
       "  <thead>\n",
       "    <tr style=\"text-align: right;\">\n",
       "      <th></th>\n",
       "      <th>unique_key</th>\n",
       "      <th>date</th>\n",
       "      <th>time</th>\n",
       "      <th>borough</th>\n",
       "      <th>location</th>\n",
       "      <th>on_street</th>\n",
       "      <th>cross_street</th>\n",
       "      <th>off_street</th>\n",
       "      <th>pedestrians_injured</th>\n",
       "      <th>cyclist_injured</th>\n",
       "      <th>motorist_injured</th>\n",
       "      <th>total_injured</th>\n",
       "      <th>pedestrians_killed</th>\n",
       "      <th>cyclist_killed</th>\n",
       "      <th>motorist_killed</th>\n",
       "      <th>total_killed</th>\n",
       "      <th>vehicle_1</th>\n",
       "      <th>vehicle_2</th>\n",
       "      <th>vehicle_3</th>\n",
       "      <th>vehicle_4</th>\n",
       "      <th>vehicle_5</th>\n",
       "      <th>cause_vehicle_1</th>\n",
       "      <th>cause_vehicle_2</th>\n",
       "      <th>cause_vehicle_3</th>\n",
       "      <th>cause_vehicle_4</th>\n",
       "      <th>cause_vehicle_5</th>\n",
       "    </tr>\n",
       "  </thead>\n",
       "  <tbody>\n",
       "    <tr>\n",
       "      <th>0</th>\n",
       "      <td>3869058</td>\n",
       "      <td>2018-03-23</td>\n",
       "      <td>21:40</td>\n",
       "      <td>MANHATTAN</td>\n",
       "      <td>(40.742832, -74.00771)</td>\n",
       "      <td>WEST 15 STREET</td>\n",
       "      <td>10 AVENUE</td>\n",
       "      <td>NaN</td>\n",
       "      <td>0</td>\n",
       "      <td>0</td>\n",
       "      <td>0</td>\n",
       "      <td>0.0</td>\n",
       "      <td>0</td>\n",
       "      <td>0</td>\n",
       "      <td>0</td>\n",
       "      <td>0.0</td>\n",
       "      <td>PASSENGER VEHICLE</td>\n",
       "      <td>NaN</td>\n",
       "      <td>NaN</td>\n",
       "      <td>NaN</td>\n",
       "      <td>NaN</td>\n",
       "      <td>Following Too Closely</td>\n",
       "      <td>Unspecified</td>\n",
       "      <td>NaN</td>\n",
       "      <td>NaN</td>\n",
       "      <td>NaN</td>\n",
       "    </tr>\n",
       "    <tr>\n",
       "      <th>1</th>\n",
       "      <td>3847947</td>\n",
       "      <td>2018-02-13</td>\n",
       "      <td>14:45</td>\n",
       "      <td>BROOKLYN</td>\n",
       "      <td>(40.623714, -73.99314)</td>\n",
       "      <td>16 AVENUE</td>\n",
       "      <td>62 STREET</td>\n",
       "      <td>NaN</td>\n",
       "      <td>0</td>\n",
       "      <td>0</td>\n",
       "      <td>0</td>\n",
       "      <td>0.0</td>\n",
       "      <td>0</td>\n",
       "      <td>0</td>\n",
       "      <td>0</td>\n",
       "      <td>0.0</td>\n",
       "      <td>SPORT UTILITY / STATION WAGON</td>\n",
       "      <td>DS</td>\n",
       "      <td>NaN</td>\n",
       "      <td>NaN</td>\n",
       "      <td>NaN</td>\n",
       "      <td>Backing Unsafely</td>\n",
       "      <td>Unspecified</td>\n",
       "      <td>NaN</td>\n",
       "      <td>NaN</td>\n",
       "      <td>NaN</td>\n",
       "    </tr>\n",
       "    <tr>\n",
       "      <th>2</th>\n",
       "      <td>3914294</td>\n",
       "      <td>2018-06-04</td>\n",
       "      <td>0:00</td>\n",
       "      <td>NaN</td>\n",
       "      <td>(40.591755, -73.9083)</td>\n",
       "      <td>BELT PARKWAY</td>\n",
       "      <td>NaN</td>\n",
       "      <td>NaN</td>\n",
       "      <td>0</td>\n",
       "      <td>0</td>\n",
       "      <td>1</td>\n",
       "      <td>1.0</td>\n",
       "      <td>0</td>\n",
       "      <td>0</td>\n",
       "      <td>0</td>\n",
       "      <td>0.0</td>\n",
       "      <td>Station Wagon/Sport Utility Vehicle</td>\n",
       "      <td>Sedan</td>\n",
       "      <td>NaN</td>\n",
       "      <td>NaN</td>\n",
       "      <td>NaN</td>\n",
       "      <td>Following Too Closely</td>\n",
       "      <td>Unspecified</td>\n",
       "      <td>NaN</td>\n",
       "      <td>NaN</td>\n",
       "      <td>NaN</td>\n",
       "    </tr>\n",
       "    <tr>\n",
       "      <th>3</th>\n",
       "      <td>3915069</td>\n",
       "      <td>2018-06-05</td>\n",
       "      <td>6:36</td>\n",
       "      <td>QUEENS</td>\n",
       "      <td>(40.73602, -73.87954)</td>\n",
       "      <td>GRAND AVENUE</td>\n",
       "      <td>VANLOON STREET</td>\n",
       "      <td>NaN</td>\n",
       "      <td>0</td>\n",
       "      <td>0</td>\n",
       "      <td>0</td>\n",
       "      <td>0.0</td>\n",
       "      <td>0</td>\n",
       "      <td>0</td>\n",
       "      <td>0</td>\n",
       "      <td>0.0</td>\n",
       "      <td>Sedan</td>\n",
       "      <td>Sedan</td>\n",
       "      <td>NaN</td>\n",
       "      <td>NaN</td>\n",
       "      <td>NaN</td>\n",
       "      <td>Glare</td>\n",
       "      <td>Passing Too Closely</td>\n",
       "      <td>NaN</td>\n",
       "      <td>NaN</td>\n",
       "      <td>NaN</td>\n",
       "    </tr>\n",
       "    <tr>\n",
       "      <th>4</th>\n",
       "      <td>3923123</td>\n",
       "      <td>2018-06-16</td>\n",
       "      <td>15:45</td>\n",
       "      <td>BRONX</td>\n",
       "      <td>(40.884727, -73.89945)</td>\n",
       "      <td>NaN</td>\n",
       "      <td>NaN</td>\n",
       "      <td>208       WEST 238 STREET</td>\n",
       "      <td>0</td>\n",
       "      <td>0</td>\n",
       "      <td>0</td>\n",
       "      <td>0.0</td>\n",
       "      <td>0</td>\n",
       "      <td>0</td>\n",
       "      <td>0</td>\n",
       "      <td>0.0</td>\n",
       "      <td>Station Wagon/Sport Utility Vehicle</td>\n",
       "      <td>Sedan</td>\n",
       "      <td>NaN</td>\n",
       "      <td>NaN</td>\n",
       "      <td>NaN</td>\n",
       "      <td>Turning Improperly</td>\n",
       "      <td>Unspecified</td>\n",
       "      <td>NaN</td>\n",
       "      <td>NaN</td>\n",
       "      <td>NaN</td>\n",
       "    </tr>\n",
       "    <tr>\n",
       "      <th>...</th>\n",
       "      <td>...</td>\n",
       "      <td>...</td>\n",
       "      <td>...</td>\n",
       "      <td>...</td>\n",
       "      <td>...</td>\n",
       "      <td>...</td>\n",
       "      <td>...</td>\n",
       "      <td>...</td>\n",
       "      <td>...</td>\n",
       "      <td>...</td>\n",
       "      <td>...</td>\n",
       "      <td>...</td>\n",
       "      <td>...</td>\n",
       "      <td>...</td>\n",
       "      <td>...</td>\n",
       "      <td>...</td>\n",
       "      <td>...</td>\n",
       "      <td>...</td>\n",
       "      <td>...</td>\n",
       "      <td>...</td>\n",
       "      <td>...</td>\n",
       "      <td>...</td>\n",
       "      <td>...</td>\n",
       "      <td>...</td>\n",
       "      <td>...</td>\n",
       "      <td>...</td>\n",
       "    </tr>\n",
       "    <tr>\n",
       "      <th>57859</th>\n",
       "      <td>3835191</td>\n",
       "      <td>2018-01-26</td>\n",
       "      <td>14:51</td>\n",
       "      <td>BRONX</td>\n",
       "      <td>(40.85477, -73.90299)</td>\n",
       "      <td>CRESTON AVENUE</td>\n",
       "      <td>EAST 181 STREET</td>\n",
       "      <td>NaN</td>\n",
       "      <td>3</td>\n",
       "      <td>0</td>\n",
       "      <td>0</td>\n",
       "      <td>3.0</td>\n",
       "      <td>0</td>\n",
       "      <td>0</td>\n",
       "      <td>0</td>\n",
       "      <td>0.0</td>\n",
       "      <td>PASSENGER VEHICLE</td>\n",
       "      <td>NaN</td>\n",
       "      <td>NaN</td>\n",
       "      <td>NaN</td>\n",
       "      <td>NaN</td>\n",
       "      <td>Unspecified</td>\n",
       "      <td>NaN</td>\n",
       "      <td>NaN</td>\n",
       "      <td>NaN</td>\n",
       "      <td>NaN</td>\n",
       "    </tr>\n",
       "    <tr>\n",
       "      <th>57860</th>\n",
       "      <td>3890674</td>\n",
       "      <td>2018-04-29</td>\n",
       "      <td>18:30</td>\n",
       "      <td>QUEENS</td>\n",
       "      <td>(40.78419, -73.84582)</td>\n",
       "      <td>COLLEGE POINT BOULEVARD</td>\n",
       "      <td>15 AVENUE</td>\n",
       "      <td>NaN</td>\n",
       "      <td>0</td>\n",
       "      <td>0</td>\n",
       "      <td>0</td>\n",
       "      <td>0.0</td>\n",
       "      <td>0</td>\n",
       "      <td>0</td>\n",
       "      <td>0</td>\n",
       "      <td>0.0</td>\n",
       "      <td>PASSENGER VEHICLE</td>\n",
       "      <td>SPORT UTILITY / STATION WAGON</td>\n",
       "      <td>NaN</td>\n",
       "      <td>NaN</td>\n",
       "      <td>NaN</td>\n",
       "      <td>Backing Unsafely</td>\n",
       "      <td>Unspecified</td>\n",
       "      <td>NaN</td>\n",
       "      <td>NaN</td>\n",
       "      <td>NaN</td>\n",
       "    </tr>\n",
       "    <tr>\n",
       "      <th>57861</th>\n",
       "      <td>3946458</td>\n",
       "      <td>2018-07-21</td>\n",
       "      <td>16:45</td>\n",
       "      <td>NaN</td>\n",
       "      <td>(40.711926, -74.0061)</td>\n",
       "      <td>PARK ROW</td>\n",
       "      <td>NaN</td>\n",
       "      <td>NaN</td>\n",
       "      <td>0</td>\n",
       "      <td>0</td>\n",
       "      <td>1</td>\n",
       "      <td>1.0</td>\n",
       "      <td>0</td>\n",
       "      <td>0</td>\n",
       "      <td>0</td>\n",
       "      <td>0.0</td>\n",
       "      <td>Station Wagon/Sport Utility Vehicle</td>\n",
       "      <td>Sedan</td>\n",
       "      <td>NaN</td>\n",
       "      <td>NaN</td>\n",
       "      <td>NaN</td>\n",
       "      <td>Turning Improperly</td>\n",
       "      <td>Unspecified</td>\n",
       "      <td>NaN</td>\n",
       "      <td>NaN</td>\n",
       "      <td>NaN</td>\n",
       "    </tr>\n",
       "    <tr>\n",
       "      <th>57862</th>\n",
       "      <td>3914574</td>\n",
       "      <td>2018-06-04</td>\n",
       "      <td>5:45</td>\n",
       "      <td>NaN</td>\n",
       "      <td>(40.71976, -73.94476)</td>\n",
       "      <td>BROOKLYN QUEENS EXPRESSWAY</td>\n",
       "      <td>NaN</td>\n",
       "      <td>NaN</td>\n",
       "      <td>0</td>\n",
       "      <td>0</td>\n",
       "      <td>0</td>\n",
       "      <td>0.0</td>\n",
       "      <td>0</td>\n",
       "      <td>0</td>\n",
       "      <td>0</td>\n",
       "      <td>0.0</td>\n",
       "      <td>Sedan</td>\n",
       "      <td>Tractor Truck Diesel</td>\n",
       "      <td>Station Wagon/Sport Utility Vehicle</td>\n",
       "      <td>NaN</td>\n",
       "      <td>NaN</td>\n",
       "      <td>Other Vehicular</td>\n",
       "      <td>Unspecified</td>\n",
       "      <td>Unspecified</td>\n",
       "      <td>NaN</td>\n",
       "      <td>NaN</td>\n",
       "    </tr>\n",
       "    <tr>\n",
       "      <th>57863</th>\n",
       "      <td>4034882</td>\n",
       "      <td>2018-11-29</td>\n",
       "      <td>8:26</td>\n",
       "      <td>NaN</td>\n",
       "      <td>(40.69181, -73.988235)</td>\n",
       "      <td>FULTON STREET</td>\n",
       "      <td>NaN</td>\n",
       "      <td>NaN</td>\n",
       "      <td>0</td>\n",
       "      <td>0</td>\n",
       "      <td>0</td>\n",
       "      <td>0.0</td>\n",
       "      <td>0</td>\n",
       "      <td>0</td>\n",
       "      <td>0</td>\n",
       "      <td>0.0</td>\n",
       "      <td>Pick-up Truck</td>\n",
       "      <td>Station Wagon/Sport Utility Vehicle</td>\n",
       "      <td>NaN</td>\n",
       "      <td>NaN</td>\n",
       "      <td>NaN</td>\n",
       "      <td>Passing Too Closely</td>\n",
       "      <td>Passing Too Closely</td>\n",
       "      <td>NaN</td>\n",
       "      <td>NaN</td>\n",
       "      <td>NaN</td>\n",
       "    </tr>\n",
       "  </tbody>\n",
       "</table>\n",
       "<p>57864 rows × 26 columns</p>\n",
       "</div>"
      ],
      "text/plain": [
       "       unique_key        date   time    borough                location  \\\n",
       "0         3869058  2018-03-23  21:40  MANHATTAN  (40.742832, -74.00771)   \n",
       "1         3847947  2018-02-13  14:45   BROOKLYN  (40.623714, -73.99314)   \n",
       "2         3914294  2018-06-04   0:00        NaN   (40.591755, -73.9083)   \n",
       "3         3915069  2018-06-05   6:36     QUEENS   (40.73602, -73.87954)   \n",
       "4         3923123  2018-06-16  15:45      BRONX  (40.884727, -73.89945)   \n",
       "...           ...         ...    ...        ...                     ...   \n",
       "57859     3835191  2018-01-26  14:51      BRONX   (40.85477, -73.90299)   \n",
       "57860     3890674  2018-04-29  18:30     QUEENS   (40.78419, -73.84582)   \n",
       "57861     3946458  2018-07-21  16:45        NaN   (40.711926, -74.0061)   \n",
       "57862     3914574  2018-06-04   5:45        NaN   (40.71976, -73.94476)   \n",
       "57863     4034882  2018-11-29   8:26        NaN  (40.69181, -73.988235)   \n",
       "\n",
       "                              on_street     cross_street  \\\n",
       "0      WEST 15 STREET                          10 AVENUE   \n",
       "1      16 AVENUE                               62 STREET   \n",
       "2      BELT PARKWAY                                  NaN   \n",
       "3      GRAND AVENUE                       VANLOON STREET   \n",
       "4                                   NaN              NaN   \n",
       "...                                 ...              ...   \n",
       "57859  CRESTON AVENUE                    EAST 181 STREET   \n",
       "57860  COLLEGE POINT BOULEVARD                 15 AVENUE   \n",
       "57861  PARK ROW                                      NaN   \n",
       "57862  BROOKLYN QUEENS EXPRESSWAY                    NaN   \n",
       "57863  FULTON STREET                                 NaN   \n",
       "\n",
       "                                     off_street  pedestrians_injured  \\\n",
       "0                                           NaN                    0   \n",
       "1                                           NaN                    0   \n",
       "2                                           NaN                    0   \n",
       "3                                           NaN                    0   \n",
       "4      208       WEST 238 STREET                                   0   \n",
       "...                                         ...                  ...   \n",
       "57859                                       NaN                    3   \n",
       "57860                                       NaN                    0   \n",
       "57861                                       NaN                    0   \n",
       "57862                                       NaN                    0   \n",
       "57863                                       NaN                    0   \n",
       "\n",
       "       cyclist_injured  motorist_injured  total_injured  pedestrians_killed  \\\n",
       "0                    0                 0            0.0                   0   \n",
       "1                    0                 0            0.0                   0   \n",
       "2                    0                 1            1.0                   0   \n",
       "3                    0                 0            0.0                   0   \n",
       "4                    0                 0            0.0                   0   \n",
       "...                ...               ...            ...                 ...   \n",
       "57859                0                 0            3.0                   0   \n",
       "57860                0                 0            0.0                   0   \n",
       "57861                0                 1            1.0                   0   \n",
       "57862                0                 0            0.0                   0   \n",
       "57863                0                 0            0.0                   0   \n",
       "\n",
       "       cyclist_killed  motorist_killed  total_killed  \\\n",
       "0                   0                0           0.0   \n",
       "1                   0                0           0.0   \n",
       "2                   0                0           0.0   \n",
       "3                   0                0           0.0   \n",
       "4                   0                0           0.0   \n",
       "...               ...              ...           ...   \n",
       "57859               0                0           0.0   \n",
       "57860               0                0           0.0   \n",
       "57861               0                0           0.0   \n",
       "57862               0                0           0.0   \n",
       "57863               0                0           0.0   \n",
       "\n",
       "                                 vehicle_1  \\\n",
       "0                        PASSENGER VEHICLE   \n",
       "1            SPORT UTILITY / STATION WAGON   \n",
       "2      Station Wagon/Sport Utility Vehicle   \n",
       "3                                    Sedan   \n",
       "4      Station Wagon/Sport Utility Vehicle   \n",
       "...                                    ...   \n",
       "57859                    PASSENGER VEHICLE   \n",
       "57860                    PASSENGER VEHICLE   \n",
       "57861  Station Wagon/Sport Utility Vehicle   \n",
       "57862                                Sedan   \n",
       "57863                        Pick-up Truck   \n",
       "\n",
       "                                 vehicle_2  \\\n",
       "0                                      NaN   \n",
       "1                                       DS   \n",
       "2                                    Sedan   \n",
       "3                                    Sedan   \n",
       "4                                    Sedan   \n",
       "...                                    ...   \n",
       "57859                                  NaN   \n",
       "57860        SPORT UTILITY / STATION WAGON   \n",
       "57861                                Sedan   \n",
       "57862                 Tractor Truck Diesel   \n",
       "57863  Station Wagon/Sport Utility Vehicle   \n",
       "\n",
       "                                 vehicle_3 vehicle_4 vehicle_5  \\\n",
       "0                                      NaN       NaN       NaN   \n",
       "1                                      NaN       NaN       NaN   \n",
       "2                                      NaN       NaN       NaN   \n",
       "3                                      NaN       NaN       NaN   \n",
       "4                                      NaN       NaN       NaN   \n",
       "...                                    ...       ...       ...   \n",
       "57859                                  NaN       NaN       NaN   \n",
       "57860                                  NaN       NaN       NaN   \n",
       "57861                                  NaN       NaN       NaN   \n",
       "57862  Station Wagon/Sport Utility Vehicle       NaN       NaN   \n",
       "57863                                  NaN       NaN       NaN   \n",
       "\n",
       "             cause_vehicle_1      cause_vehicle_2 cause_vehicle_3  \\\n",
       "0      Following Too Closely          Unspecified             NaN   \n",
       "1           Backing Unsafely          Unspecified             NaN   \n",
       "2      Following Too Closely          Unspecified             NaN   \n",
       "3                      Glare  Passing Too Closely             NaN   \n",
       "4         Turning Improperly          Unspecified             NaN   \n",
       "...                      ...                  ...             ...   \n",
       "57859            Unspecified                  NaN             NaN   \n",
       "57860       Backing Unsafely          Unspecified             NaN   \n",
       "57861     Turning Improperly          Unspecified             NaN   \n",
       "57862        Other Vehicular          Unspecified     Unspecified   \n",
       "57863    Passing Too Closely  Passing Too Closely             NaN   \n",
       "\n",
       "      cause_vehicle_4 cause_vehicle_5  \n",
       "0                 NaN             NaN  \n",
       "1                 NaN             NaN  \n",
       "2                 NaN             NaN  \n",
       "3                 NaN             NaN  \n",
       "4                 NaN             NaN  \n",
       "...               ...             ...  \n",
       "57859             NaN             NaN  \n",
       "57860             NaN             NaN  \n",
       "57861             NaN             NaN  \n",
       "57862             NaN             NaN  \n",
       "57863             NaN             NaN  \n",
       "\n",
       "[57864 rows x 26 columns]"
      ]
     },
     "execution_count": 55,
     "metadata": {},
     "output_type": "execute_result"
    }
   ],
   "source": [
    "# Loading data from Local Storage\n",
    "explore=pd.read_csv(r\"C:\\Users\\HASSAN\\Desktop\\Data Analysis_TEST2\\nypd_mvc_2018.csv\")\n",
    "explore"
   ]
  },
  {
   "cell_type": "markdown",
   "metadata": {},
   "source": [
    "- from the given dataset. looking at it is a gathered dataset by the new york police department (NYPD) concerning accident occurrence in the six(6) regions.\n",
    "- categorically the dataset is shared into, date, time, geographical information, type of vehicle, accident severity, and causes of accident\n"
   ]
  },
  {
   "cell_type": "code",
   "execution_count": 56,
   "metadata": {},
   "outputs": [
    {
     "name": "stdout",
     "output_type": "stream",
     "text": [
      "<class 'pandas.core.frame.DataFrame'>\n",
      "RangeIndex: 57864 entries, 0 to 57863\n",
      "Data columns (total 26 columns):\n",
      " #   Column               Non-Null Count  Dtype  \n",
      "---  ------               --------------  -----  \n",
      " 0   unique_key           57864 non-null  int64  \n",
      " 1   date                 57864 non-null  object \n",
      " 2   time                 57864 non-null  object \n",
      " 3   borough              37218 non-null  object \n",
      " 4   location             53979 non-null  object \n",
      " 5   on_street            43903 non-null  object \n",
      " 6   cross_street         28615 non-null  object \n",
      " 7   off_street           13771 non-null  object \n",
      " 8   pedestrians_injured  57864 non-null  int64  \n",
      " 9   cyclist_injured      57864 non-null  int64  \n",
      " 10  motorist_injured     57864 non-null  int64  \n",
      " 11  total_injured        57863 non-null  float64\n",
      " 12  pedestrians_killed   57864 non-null  int64  \n",
      " 13  cyclist_killed       57864 non-null  int64  \n",
      " 14  motorist_killed      57864 non-null  int64  \n",
      " 15  total_killed         57859 non-null  float64\n",
      " 16  vehicle_1            57509 non-null  object \n",
      " 17  vehicle_2            45602 non-null  object \n",
      " 18  vehicle_3            3512 non-null   object \n",
      " 19  vehicle_4            706 non-null    object \n",
      " 20  vehicle_5            183 non-null    object \n",
      " 21  cause_vehicle_1      57689 non-null  object \n",
      " 22  cause_vehicle_2      49172 non-null  object \n",
      " 23  cause_vehicle_3      3730 non-null   object \n",
      " 24  cause_vehicle_4      753 non-null    object \n",
      " 25  cause_vehicle_5      193 non-null    object \n",
      "dtypes: float64(2), int64(7), object(17)\n",
      "memory usage: 11.5+ MB\n"
     ]
    }
   ],
   "source": [
    "# getting basic details of my dataset \n",
    "explore.info()\n"
   ]
  },
  {
   "cell_type": "markdown",
   "metadata": {},
   "source": [
    "in my Exploration Data Analysis. i will perform the following task:\n",
    "1. check if the columns in my dataset is properly formatted\n",
    "    - check if data-items does not contain leading or trailing spaces, \n",
    "    -  test are in lowercase for easy readability\n",
    "    - all data-item are spelled well and in better namimg conventions for easy interpretations.\n",
    "2. check to see if there is no duplicates\n",
    "3. identify number of unique values against duplicates for each columns\n",
    "4. check the data type of each columns to know if data are consistent \n",
    "5. check for sum of missing values in each columns\n",
    "6. filter out some important columns (related to date, time, geographical information, type of vehicle, accident severity and causes of accident )\n"
   ]
  },
  {
   "cell_type": "code",
   "execution_count": 57,
   "metadata": {},
   "outputs": [
    {
     "data": {
      "text/plain": [
       "Index(['unique_key', 'date', 'time', 'borough', 'location', 'on_street',\n",
       "       'cross_street', 'off_street', 'pedestrians_injured', 'cyclist_injured',\n",
       "       'motorist_injured', 'total_injured', 'pedestrians_killed',\n",
       "       'cyclist_killed', 'motorist_killed', 'total_killed', 'vehicle_1',\n",
       "       'vehicle_2', 'vehicle_3', 'vehicle_4', 'vehicle_5', 'cause_vehicle_1',\n",
       "       'cause_vehicle_2', 'cause_vehicle_3', 'cause_vehicle_4',\n",
       "       'cause_vehicle_5'],\n",
       "      dtype='object')"
      ]
     },
     "execution_count": 57,
     "metadata": {},
     "output_type": "execute_result"
    }
   ],
   "source": [
    "# Checking column formats\n",
    "explore.columns"
   ]
  },
  {
   "cell_type": "markdown",
   "metadata": {},
   "source": [
    "merely looking at these, i can see that the columns are properly pre-formatted"
   ]
  },
  {
   "cell_type": "code",
   "execution_count": 58,
   "metadata": {},
   "outputs": [
    {
     "data": {
      "text/plain": [
       "0"
      ]
     },
     "execution_count": 58,
     "metadata": {},
     "output_type": "execute_result"
    }
   ],
   "source": [
    "# checking for total number of duplicate rows in the dataframe\n",
    "explore_dup=explore.duplicated().sum()\n",
    "explore_dup"
   ]
  },
  {
   "cell_type": "markdown",
   "metadata": {},
   "source": [
    "- from the returned value(0). i can say there are no duplicate rows in the Dataframe. each row is unique, and there are no identical rows based on all columns.\n",
    "- this is a positive outcome as it suggests data integrity and helps ensure accurate analyses without concerns about duplicate entries.\n"
   ]
  },
  {
   "cell_type": "code",
   "execution_count": 59,
   "metadata": {},
   "outputs": [
    {
     "data": {
      "text/plain": [
       "unique_key             57864\n",
       "date                     365\n",
       "time                    1433\n",
       "borough                    5\n",
       "location               30018\n",
       "on_street               3655\n",
       "cross_street            4057\n",
       "off_street             12459\n",
       "pedestrians_injured        6\n",
       "cyclist_injured            3\n",
       "motorist_injured          15\n",
       "total_injured             15\n",
       "pedestrians_killed         2\n",
       "cyclist_killed             2\n",
       "motorist_killed            2\n",
       "total_killed               2\n",
       "vehicle_1                229\n",
       "vehicle_2                231\n",
       "vehicle_3                 53\n",
       "vehicle_4                 19\n",
       "vehicle_5                 12\n",
       "cause_vehicle_1           55\n",
       "cause_vehicle_2           42\n",
       "cause_vehicle_3           24\n",
       "cause_vehicle_4           10\n",
       "cause_vehicle_5            7\n",
       "dtype: int64"
      ]
     },
     "execution_count": 59,
     "metadata": {},
     "output_type": "execute_result"
    }
   ],
   "source": [
    "# Checking for number of unique values in each column\n",
    "explore.nunique() \n"
   ]
  },
  {
   "cell_type": "markdown",
   "metadata": {},
   "source": [
    "looking at the above result. i can say the \"unique_key\" has the highest number of unique values. this column can represent our primary key that will identify all other rows, thereby ensuring data integrity"
   ]
  },
  {
   "cell_type": "code",
   "execution_count": 60,
   "metadata": {},
   "outputs": [
    {
     "data": {
      "text/plain": [
       "unique_key               int64\n",
       "date                    object\n",
       "time                    object\n",
       "borough                 object\n",
       "location                object\n",
       "on_street               object\n",
       "cross_street            object\n",
       "off_street              object\n",
       "pedestrians_injured      int64\n",
       "cyclist_injured          int64\n",
       "motorist_injured         int64\n",
       "total_injured          float64\n",
       "pedestrians_killed       int64\n",
       "cyclist_killed           int64\n",
       "motorist_killed          int64\n",
       "total_killed           float64\n",
       "vehicle_1               object\n",
       "vehicle_2               object\n",
       "vehicle_3               object\n",
       "vehicle_4               object\n",
       "vehicle_5               object\n",
       "cause_vehicle_1         object\n",
       "cause_vehicle_2         object\n",
       "cause_vehicle_3         object\n",
       "cause_vehicle_4         object\n",
       "cause_vehicle_5         object\n",
       "dtype: object"
      ]
     },
     "execution_count": 60,
     "metadata": {},
     "output_type": "execute_result"
    }
   ],
   "source": [
    "# checking the data type of each columns for consistency\n",
    "explore.dtypes"
   ]
  },
  {
   "cell_type": "markdown",
   "metadata": {},
   "source": [
    "from observation, i can see that most columns as an \"object\" datatype. for easier \"date\" and \"time\" interpretation, i will use the datetime library to ensure there consistency throughout the table\""
   ]
  },
  {
   "cell_type": "code",
   "execution_count": 61,
   "metadata": {},
   "outputs": [
    {
     "data": {
      "text/plain": [
       "unique_key                 0\n",
       "date                       0\n",
       "time                       0\n",
       "borough                20646\n",
       "location                3885\n",
       "on_street              13961\n",
       "cross_street           29249\n",
       "off_street             44093\n",
       "pedestrians_injured        0\n",
       "cyclist_injured            0\n",
       "motorist_injured           0\n",
       "total_injured              1\n",
       "pedestrians_killed         0\n",
       "cyclist_killed             0\n",
       "motorist_killed            0\n",
       "total_killed               5\n",
       "vehicle_1                355\n",
       "vehicle_2              12262\n",
       "vehicle_3              54352\n",
       "vehicle_4              57158\n",
       "vehicle_5              57681\n",
       "cause_vehicle_1          175\n",
       "cause_vehicle_2         8692\n",
       "cause_vehicle_3        54134\n",
       "cause_vehicle_4        57111\n",
       "cause_vehicle_5        57671\n",
       "dtype: int64"
      ]
     },
     "execution_count": 61,
     "metadata": {},
     "output_type": "execute_result"
    }
   ],
   "source": [
    "# checking for the number of missing values in each column\n",
    "explore.isnull().sum()\n"
   ]
  },
  {
   "cell_type": "markdown",
   "metadata": {},
   "source": [
    "looking at the numbers i can say;\n",
    "- the columns: unique key, date, time and accident severity(all injured and killed) are highly populated with values. \n",
    "- the geographic info(borough, location, on_street, off_street and cross_street) display inconsistent data, with only location being the most populated.\n",
    "- the columns related to vehicle 3-5 and cause_vehicle 3-5 shows a large amount of missing values."
   ]
  },
  {
   "cell_type": "code",
   "execution_count": 62,
   "metadata": {},
   "outputs": [],
   "source": [
    "# filtering important columns\n",
    "# date and time\n",
    "# explore[\"vehicle_3\"].value_counts(dropna=False)\n",
    "# explore.columns"
   ]
  },
  {
   "cell_type": "markdown",
   "metadata": {},
   "source": [
    "from overall EDA, i can say that; \n",
    " - the date and time datatype need to be changed from object to datetime \n",
    " - all columns with \"unspecified\" values and empty must be made NaN to maintain consistency and also to get a better visual view of missing values later\n",
    " - location column containing coordinates will be splitted into separate columns of longitude and latitude to make it easier to perform analysis and visualizations.\n",
    " - also from the accident severity category, although the pedestrians_injured', 'cyclist_injured','motorist_injured' columns, are fully populated, the 'total_injured' column has 1 value missing. same applies to the 'pedestrians_killed','cyclist_killed', 'motorist_killed' columns, with the 'total_killed' missing 5 values. we can asssume the total number of injured and killed respectively is the sum of pedestrians, cysclist and motorist injured and killed respectively.\n"
   ]
  },
  {
   "cell_type": "markdown",
   "metadata": {},
   "source": [
    "                                                                         DATA CLEANING"
   ]
  },
  {
   "cell_type": "code",
   "execution_count": 63,
   "metadata": {},
   "outputs": [
    {
     "name": "stdout",
     "output_type": "stream",
     "text": [
      "<class 'pandas.core.frame.DataFrame'>\n",
      "RangeIndex: 57864 entries, 0 to 57863\n",
      "Data columns (total 26 columns):\n",
      " #   Column               Non-Null Count  Dtype         \n",
      "---  ------               --------------  -----         \n",
      " 0   unique_key           57864 non-null  int64         \n",
      " 1   date                 57864 non-null  datetime64[ns]\n",
      " 2   time                 57864 non-null  object        \n",
      " 3   borough              37218 non-null  object        \n",
      " 4   location             53979 non-null  object        \n",
      " 5   on_street            43903 non-null  object        \n",
      " 6   cross_street         28615 non-null  object        \n",
      " 7   off_street           13771 non-null  object        \n",
      " 8   pedestrians_injured  57864 non-null  int64         \n",
      " 9   cyclist_injured      57864 non-null  int64         \n",
      " 10  motorist_injured     57864 non-null  int64         \n",
      " 11  total_injured        57863 non-null  float64       \n",
      " 12  pedestrians_killed   57864 non-null  int64         \n",
      " 13  cyclist_killed       57864 non-null  int64         \n",
      " 14  motorist_killed      57864 non-null  int64         \n",
      " 15  total_killed         57859 non-null  float64       \n",
      " 16  vehicle_1            57509 non-null  object        \n",
      " 17  vehicle_2            45602 non-null  object        \n",
      " 18  vehicle_3            3512 non-null   object        \n",
      " 19  vehicle_4            706 non-null    object        \n",
      " 20  vehicle_5            183 non-null    object        \n",
      " 21  cause_vehicle_1      57689 non-null  object        \n",
      " 22  cause_vehicle_2      49172 non-null  object        \n",
      " 23  cause_vehicle_3      3730 non-null   object        \n",
      " 24  cause_vehicle_4      753 non-null    object        \n",
      " 25  cause_vehicle_5      193 non-null    object        \n",
      "dtypes: datetime64[ns](1), float64(2), int64(7), object(16)\n",
      "memory usage: 11.5+ MB\n"
     ]
    }
   ],
   "source": [
    "#  Date and Time formatting \n",
    "explore[\"date\"]=pd.to_datetime(explore[\"date\"])\n",
    "explore[\"time\"]=pd.to_datetime(explore[\"time\"],format=\"%H:%M\").dt.time\n",
    "explore.info()\n",
    "#explore.head(10)"
   ]
  },
  {
   "cell_type": "code",
   "execution_count": 64,
   "metadata": {},
   "outputs": [
    {
     "name": "stdout",
     "output_type": "stream",
     "text": [
      "unique_key                 0\n",
      "date                       0\n",
      "time                       0\n",
      "borough                20646\n",
      "location                3885\n",
      "on_street              13961\n",
      "cross_street           29249\n",
      "off_street             44093\n",
      "pedestrians_injured        0\n",
      "cyclist_injured            0\n",
      "motorist_injured           0\n",
      "total_injured              1\n",
      "pedestrians_killed         0\n",
      "cyclist_killed             0\n",
      "motorist_killed            0\n",
      "total_killed               5\n",
      "vehicle_1                355\n",
      "vehicle_2              12262\n",
      "vehicle_3              54352\n",
      "vehicle_4              57158\n",
      "vehicle_5              57681\n",
      "cause_vehicle_1          175\n",
      "cause_vehicle_2         8692\n",
      "cause_vehicle_3        54134\n",
      "cause_vehicle_4        57111\n",
      "cause_vehicle_5        57671\n",
      "dtype: int64\n",
      "\n",
      "\n",
      "unique_key                 0\n",
      "date                       0\n",
      "time                       0\n",
      "borough                20646\n",
      "location                3885\n",
      "on_street              13961\n",
      "cross_street           29249\n",
      "off_street             44093\n",
      "pedestrians_injured        0\n",
      "cyclist_injured            0\n",
      "motorist_injured           0\n",
      "total_injured              1\n",
      "pedestrians_killed         0\n",
      "cyclist_killed             0\n",
      "motorist_killed            0\n",
      "total_killed               5\n",
      "vehicle_1                355\n",
      "vehicle_2              12262\n",
      "vehicle_3              54352\n",
      "vehicle_4              57158\n",
      "vehicle_5              57681\n",
      "cause_vehicle_1        12808\n",
      "cause_vehicle_2        49184\n",
      "cause_vehicle_3        57600\n",
      "cause_vehicle_4        57817\n",
      "cause_vehicle_5        57855\n",
      "dtype: int64\n",
      "\n",
      "\n"
     ]
    }
   ],
   "source": [
    "#  Handling Missing Values in the dataframe\n",
    "clean2=explore.replace(\" \", np.nan)\n",
    "clean2=explore.replace(\"unspecified\", np.nan)\n",
    "clean2=explore.replace(\"Unspecified\", np.nan)\n",
    "print(explore.isnull().sum())\n",
    "print(\"\\n\")\n",
    "print(clean2.isnull().sum())\n",
    "print(\"\\n\")"
   ]
  },
  {
   "cell_type": "markdown",
   "metadata": {},
   "source": [
    "from observation, i can see that the cause of accident category is really affected. most causes of accident are not being identified. especially for cause_vehicle 2,3,4,5. "
   ]
  },
  {
   "cell_type": "code",
   "execution_count": 65,
   "metadata": {},
   "outputs": [
    {
     "data": {
      "text/plain": [
       "<Axes: >"
      ]
     },
     "execution_count": 65,
     "metadata": {},
     "output_type": "execute_result"
    },
    {
     "data": {
      "image/png": "[encoded data removed]",
      "text/plain": [
       "<Figure size 2500x1000 with 2 Axes>"
      ]
     },
     "metadata": {},
     "output_type": "display_data"
    }
   ],
   "source": [
    "# to get a better view of the cleaned dataframe \n",
    "%matplotlib inline\n",
    "ms.matrix(clean2)"
   ]
  },
  {
   "cell_type": "markdown",
   "metadata": {},
   "source": [
    "- looking at the chart there is a predominant completeness in the fields of unique key, date, time, accident severity(e.g pedestrians_injured, motorist_killed etc). \n",
    "- However the geographical information displays inconsistent data, with location being the most consistently populated. \n",
    "- specifically, the columns related to vehicle 3-5 and cause_vehicle 3-5 show substantial gaps, with substantial lack of information in this field."
   ]
  },
  {
   "cell_type": "markdown",
   "metadata": {},
   "source": [
    "        Cleaning up the Location Column "
   ]
  },
  {
   "cell_type": "code",
   "execution_count": 66,
   "metadata": {},
   "outputs": [],
   "source": [
    "# using apply and lambda function to extract the coordinates from the location column with the paranthesis and then Split the result into two separate columns longtitude and latitude\n",
    "#clean2[\"location\"].value_counts(dropna=False)\n",
    "clean3=clean2\n",
    "clean3[[\"latitude\",\"longitude\"]]=clean3[\"location\"].apply(lambda x: pd.Series(str(x).strip(\"()\").split()))\n",
    "#clean3.info()"
   ]
  },
  {
   "cell_type": "code",
   "execution_count": 67,
   "metadata": {},
   "outputs": [],
   "source": [
    "# replaced all nan value to actual NaN value i.e missing value\n",
    "clean3[\"latitude\"]=clean3[\"latitude\"].replace(\"nan\", np.nan)\n",
    "clean3[\"latitude\"]=clean3[\"latitude\"].str.strip(\",\")\n"
   ]
  },
  {
   "cell_type": "code",
   "execution_count": 68,
   "metadata": {},
   "outputs": [],
   "source": [
    "# converting longitude and latitide column to float\n",
    "clean3[[\"latitude\",\"longitude\"]]=clean3[[\"latitude\",\"longitude\"]].astype(float)"
   ]
  },
  {
   "cell_type": "code",
   "execution_count": 69,
   "metadata": {},
   "outputs": [
    {
     "name": "stdout",
     "output_type": "stream",
     "text": [
      "<class 'pandas.core.frame.DataFrame'>\n",
      "RangeIndex: 57864 entries, 0 to 57863\n",
      "Data columns (total 28 columns):\n",
      " #   Column               Non-Null Count  Dtype         \n",
      "---  ------               --------------  -----         \n",
      " 0   unique_key           57864 non-null  int64         \n",
      " 1   date                 57864 non-null  datetime64[ns]\n",
      " 2   time                 57864 non-null  object        \n",
      " 3   borough              37218 non-null  object        \n",
      " 4   location             53979 non-null  object        \n",
      " 5   on_street            43903 non-null  object        \n",
      " 6   cross_street         28615 non-null  object        \n",
      " 7   off_street           13771 non-null  object        \n",
      " 8   pedestrians_injured  57864 non-null  int64         \n",
      " 9   cyclist_injured      57864 non-null  int64         \n",
      " 10  motorist_injured     57864 non-null  int64         \n",
      " 11  total_injured        57863 non-null  float64       \n",
      " 12  pedestrians_killed   57864 non-null  int64         \n",
      " 13  cyclist_killed       57864 non-null  int64         \n",
      " 14  motorist_killed      57864 non-null  int64         \n",
      " 15  total_killed         57859 non-null  float64       \n",
      " 16  vehicle_1            57509 non-null  object        \n",
      " 17  vehicle_2            45602 non-null  object        \n",
      " 18  vehicle_3            3512 non-null   object        \n",
      " 19  vehicle_4            706 non-null    object        \n",
      " 20  vehicle_5            183 non-null    object        \n",
      " 21  cause_vehicle_1      45056 non-null  object        \n",
      " 22  cause_vehicle_2      8680 non-null   object        \n",
      " 23  cause_vehicle_3      264 non-null    object        \n",
      " 24  cause_vehicle_4      47 non-null     object        \n",
      " 25  cause_vehicle_5      9 non-null      object        \n",
      " 26  latitude             53979 non-null  float64       \n",
      " 27  longitude            53979 non-null  float64       \n",
      "dtypes: datetime64[ns](1), float64(4), int64(7), object(16)\n",
      "memory usage: 12.4+ MB\n"
     ]
    }
   ],
   "source": [
    "#clean3[[\"latitude\",\"longitude\"]].head(30)\n",
    "#clean3\n",
    "# clean3[\"latitude\"].value_counts(dropna=False)\n",
    "clean3.info()\n",
    "# clean3[\"longitude\"].value_counts(dropna=False)"
   ]
  },
  {
   "cell_type": "markdown",
   "metadata": {},
   "source": [
    "  Filling up the missing value in Accident Severity Category\n"
   ]
  },
  {
   "cell_type": "code",
   "execution_count": 70,
   "metadata": {},
   "outputs": [
    {
     "data": {
      "text/plain": [
       "Index(['unique_key', 'date', 'time', 'borough', 'location', 'on_street',\n",
       "       'cross_street', 'off_street', 'pedestrians_injured', 'cyclist_injured',\n",
       "       'motorist_injured', 'total_injured', 'pedestrians_killed',\n",
       "       'cyclist_killed', 'motorist_killed', 'total_killed', 'vehicle_1',\n",
       "       'vehicle_2', 'vehicle_3', 'vehicle_4', 'vehicle_5', 'cause_vehicle_1',\n",
       "       'cause_vehicle_2', 'cause_vehicle_3', 'cause_vehicle_4',\n",
       "       'cause_vehicle_5', 'latitude', 'longitude'],\n",
       "      dtype='object')"
      ]
     },
     "execution_count": 70,
     "metadata": {},
     "output_type": "execute_result"
    }
   ],
   "source": [
    "clean4=clean3\n",
    "clean4.columns"
   ]
  },
  {
   "cell_type": "code",
   "execution_count": 71,
   "metadata": {},
   "outputs": [
    {
     "name": "stdout",
     "output_type": "stream",
     "text": [
      "pedestrians_injured    0\n",
      "cyclist_injured        0\n",
      "motorist_injured       0\n",
      "total_injured          1\n",
      "pedestrians_killed     0\n",
      "cyclist_killed         0\n",
      "motorist_killed        0\n",
      "total_killed           5\n",
      "dtype: int64\n"
     ]
    }
   ],
   "source": [
    "print(clean4[['pedestrians_injured', 'cyclist_injured',\n",
    "       'motorist_injured', 'total_injured', 'pedestrians_killed',\n",
    "       'cyclist_killed', 'motorist_killed', 'total_killed']].isnull().sum())"
   ]
  },
  {
   "cell_type": "code",
   "execution_count": 72,
   "metadata": {},
   "outputs": [
    {
     "data": {
      "text/plain": [
       "(5, 28)"
      ]
     },
     "execution_count": 72,
     "metadata": {},
     "output_type": "execute_result"
    }
   ],
   "source": [
    "# filtering for rows with missing values in total injured or killed\n",
    "missing=clean4[(clean4[\"total_injured\"].isnull())|(clean4[\"total_killed\"].isnull())]\n",
    "missing.shape\n"
   ]
  },
  {
   "cell_type": "code",
   "execution_count": 73,
   "metadata": {},
   "outputs": [],
   "source": [
    "# to get the missing value in total_injured, i have to sum the values in pedestrians_injured, cyclist_injured and motorist_injured\n",
    "clean4.loc[missing.index,\"total_injured\"]=missing[[\"pedestrians_injured\",'cyclist_injured','motorist_injured',]].sum(axis=1)\n",
    "clean4.loc[missing.index,\"total_killed\"]=missing[[\"pedestrians_killed\",'cyclist_killed','motorist_killed',]].sum(axis=1)"
   ]
  },
  {
   "cell_type": "code",
   "execution_count": 74,
   "metadata": {},
   "outputs": [
    {
     "name": "stdout",
     "output_type": "stream",
     "text": [
      "pedestrians_injured    0\n",
      "cyclist_injured        0\n",
      "motorist_injured       0\n",
      "total_injured          0\n",
      "pedestrians_killed     0\n",
      "cyclist_killed         0\n",
      "motorist_killed        0\n",
      "total_killed           0\n",
      "dtype: int64\n"
     ]
    }
   ],
   "source": [
    "print(clean4[['pedestrians_injured', 'cyclist_injured',\n",
    "       'motorist_injured', 'total_injured', 'pedestrians_killed',\n",
    "       'cyclist_killed', 'motorist_killed', 'total_killed']].isnull().sum())"
   ]
  },
  {
   "cell_type": "markdown",
   "metadata": {},
   "source": [
    "the missing value in the accident severity has been properly filled up "
   ]
  },
  {
   "cell_type": "code",
   "execution_count": 75,
   "metadata": {},
   "outputs": [
    {
     "name": "stdout",
     "output_type": "stream",
     "text": [
      "<class 'pandas.core.frame.DataFrame'>\n",
      "RangeIndex: 57864 entries, 0 to 57863\n",
      "Data columns (total 28 columns):\n",
      " #   Column               Non-Null Count  Dtype         \n",
      "---  ------               --------------  -----         \n",
      " 0   unique_key           57864 non-null  int64         \n",
      " 1   date                 57864 non-null  datetime64[ns]\n",
      " 2   time                 57864 non-null  object        \n",
      " 3   borough              37218 non-null  object        \n",
      " 4   location             53979 non-null  object        \n",
      " 5   on_street            43903 non-null  object        \n",
      " 6   cross_street         28615 non-null  object        \n",
      " 7   off_street           13771 non-null  object        \n",
      " 8   pedestrians_injured  57864 non-null  int64         \n",
      " 9   cyclist_injured      57864 non-null  int64         \n",
      " 10  motorist_injured     57864 non-null  int64         \n",
      " 11  total_injured        57864 non-null  float64       \n",
      " 12  pedestrians_killed   57864 non-null  int64         \n",
      " 13  cyclist_killed       57864 non-null  int64         \n",
      " 14  motorist_killed      57864 non-null  int64         \n",
      " 15  total_killed         57864 non-null  float64       \n",
      " 16  vehicle_1            57509 non-null  object        \n",
      " 17  vehicle_2            45602 non-null  object        \n",
      " 18  vehicle_3            3512 non-null   object        \n",
      " 19  vehicle_4            706 non-null    object        \n",
      " 20  vehicle_5            183 non-null    object        \n",
      " 21  cause_vehicle_1      45056 non-null  object        \n",
      " 22  cause_vehicle_2      8680 non-null   object        \n",
      " 23  cause_vehicle_3      264 non-null    object        \n",
      " 24  cause_vehicle_4      47 non-null     object        \n",
      " 25  cause_vehicle_5      9 non-null      object        \n",
      " 26  latitude             53979 non-null  float64       \n",
      " 27  longitude            53979 non-null  float64       \n",
      "dtypes: datetime64[ns](1), float64(4), int64(7), object(16)\n",
      "memory usage: 12.4+ MB\n"
     ]
    }
   ],
   "source": [
    "clean4.info()"
   ]
  },
  {
   "cell_type": "markdown",
   "metadata": {},
   "source": [
    "                                                                    FURTHER CLEANING "
   ]
  },
  {
   "cell_type": "markdown",
   "metadata": {},
   "source": [
    "All the basic cleaning has been done. however from further geographic study, the latitude of New york is 40.7128 and the longitude is 74.0060. therefore, any values that fall outside this range are obviously incorrect entries."
   ]
  },
  {
   "cell_type": "code",
   "execution_count": 76,
   "metadata": {},
   "outputs": [],
   "source": [
    "# to know the number of rows that fall out of range\n",
    "exceed_range= clean4[(clean4.latitude>41)|(clean4.latitude<40)|(clean4.longitude<-75)|(clean4.longitude>-73)]\n",
    "# exceed_range.shape"
   ]
  },
  {
   "cell_type": "markdown",
   "metadata": {},
   "source": [
    "in this case we have 16 rows with values that fall out of range, observed as incorrect entries"
   ]
  },
  {
   "cell_type": "code",
   "execution_count": 77,
   "metadata": {},
   "outputs": [
    {
     "data": {
      "text/html": [
       "<div>\n",
       "<style scoped>\n",
       "    .dataframe tbody tr th:only-of-type {\n",
       "        vertical-align: middle;\n",
       "    }\n",
       "\n",
       "    .dataframe tbody tr th {\n",
       "        vertical-align: top;\n",
       "    }\n",
       "\n",
       "    .dataframe thead th {\n",
       "        text-align: right;\n",
       "    }\n",
       "</style>\n",
       "<table border=\"1\" class=\"dataframe\">\n",
       "  <thead>\n",
       "    <tr style=\"text-align: right;\">\n",
       "      <th></th>\n",
       "      <th>latitude</th>\n",
       "      <th>longitude</th>\n",
       "    </tr>\n",
       "  </thead>\n",
       "  <tbody>\n",
       "    <tr>\n",
       "      <th>557</th>\n",
       "      <td>40.758370</td>\n",
       "      <td>-201.237060</td>\n",
       "    </tr>\n",
       "    <tr>\n",
       "      <th>833</th>\n",
       "      <td>40.758370</td>\n",
       "      <td>-201.237060</td>\n",
       "    </tr>\n",
       "    <tr>\n",
       "      <th>11464</th>\n",
       "      <td>40.758370</td>\n",
       "      <td>-201.237060</td>\n",
       "    </tr>\n",
       "    <tr>\n",
       "      <th>30538</th>\n",
       "      <td>40.665226</td>\n",
       "      <td>-32.768513</td>\n",
       "    </tr>\n",
       "    <tr>\n",
       "      <th>31830</th>\n",
       "      <td>40.758370</td>\n",
       "      <td>-201.237060</td>\n",
       "    </tr>\n",
       "    <tr>\n",
       "      <th>31931</th>\n",
       "      <td>40.758370</td>\n",
       "      <td>-201.237060</td>\n",
       "    </tr>\n",
       "    <tr>\n",
       "      <th>40947</th>\n",
       "      <td>40.758370</td>\n",
       "      <td>-201.237060</td>\n",
       "    </tr>\n",
       "    <tr>\n",
       "      <th>45676</th>\n",
       "      <td>40.758370</td>\n",
       "      <td>-201.237060</td>\n",
       "    </tr>\n",
       "    <tr>\n",
       "      <th>46232</th>\n",
       "      <td>40.665226</td>\n",
       "      <td>-32.768513</td>\n",
       "    </tr>\n",
       "    <tr>\n",
       "      <th>46732</th>\n",
       "      <td>40.758370</td>\n",
       "      <td>-201.237060</td>\n",
       "    </tr>\n",
       "    <tr>\n",
       "      <th>47552</th>\n",
       "      <td>40.758370</td>\n",
       "      <td>-201.237060</td>\n",
       "    </tr>\n",
       "    <tr>\n",
       "      <th>47694</th>\n",
       "      <td>40.758370</td>\n",
       "      <td>-201.237060</td>\n",
       "    </tr>\n",
       "    <tr>\n",
       "      <th>50380</th>\n",
       "      <td>40.758370</td>\n",
       "      <td>-201.237060</td>\n",
       "    </tr>\n",
       "    <tr>\n",
       "      <th>52797</th>\n",
       "      <td>40.758370</td>\n",
       "      <td>-201.237060</td>\n",
       "    </tr>\n",
       "    <tr>\n",
       "      <th>53936</th>\n",
       "      <td>40.758370</td>\n",
       "      <td>-201.237060</td>\n",
       "    </tr>\n",
       "    <tr>\n",
       "      <th>57789</th>\n",
       "      <td>40.758370</td>\n",
       "      <td>-201.237060</td>\n",
       "    </tr>\n",
       "  </tbody>\n",
       "</table>\n",
       "</div>"
      ],
      "text/plain": [
       "        latitude   longitude\n",
       "557    40.758370 -201.237060\n",
       "833    40.758370 -201.237060\n",
       "11464  40.758370 -201.237060\n",
       "30538  40.665226  -32.768513\n",
       "31830  40.758370 -201.237060\n",
       "31931  40.758370 -201.237060\n",
       "40947  40.758370 -201.237060\n",
       "45676  40.758370 -201.237060\n",
       "46232  40.665226  -32.768513\n",
       "46732  40.758370 -201.237060\n",
       "47552  40.758370 -201.237060\n",
       "47694  40.758370 -201.237060\n",
       "50380  40.758370 -201.237060\n",
       "52797  40.758370 -201.237060\n",
       "53936  40.758370 -201.237060\n",
       "57789  40.758370 -201.237060"
      ]
     },
     "execution_count": 77,
     "metadata": {},
     "output_type": "execute_result"
    }
   ],
   "source": [
    "exceed_range[[\"latitude\", \"longitude\"]].head(16)"
   ]
  },
  {
   "cell_type": "code",
   "execution_count": 78,
   "metadata": {},
   "outputs": [
    {
     "data": {
      "text/plain": [
       "57789   NaN\n",
       "Name: latitude, dtype: float64"
      ]
     },
     "execution_count": 78,
     "metadata": {},
     "output_type": "execute_result"
    }
   ],
   "source": [
    "# Replacing the exceed_range values with missing values NaN in the dataframe\n",
    "clean4.loc[exceed_range.index, \"latitude\"]=np.nan\n",
    "clean4.loc[exceed_range.index, \"longitude\"]=np.nan\n",
    "show=clean4.iloc[[57789],26]\n",
    "show"
   ]
  },
  {
   "cell_type": "code",
   "execution_count": 79,
   "metadata": {},
   "outputs": [
    {
     "data": {
      "text/plain": [
       "(0, 2)"
      ]
     },
     "execution_count": 79,
     "metadata": {},
     "output_type": "execute_result"
    }
   ],
   "source": [
    "clean4[(clean4.latitude>41)|(clean4.latitude<40)|(clean4.longitude<-75)|(clean4.longitude>-73)][[\"latitude\", \"longitude\"]].shape"
   ]
  },
  {
   "cell_type": "code",
   "execution_count": 80,
   "metadata": {},
   "outputs": [
    {
     "name": "stdout",
     "output_type": "stream",
     "text": [
      "<class 'pandas.core.frame.DataFrame'>\n",
      "RangeIndex: 57864 entries, 0 to 57863\n",
      "Data columns (total 28 columns):\n",
      " #   Column               Non-Null Count  Dtype         \n",
      "---  ------               --------------  -----         \n",
      " 0   unique_key           57864 non-null  int64         \n",
      " 1   date                 57864 non-null  datetime64[ns]\n",
      " 2   time                 57864 non-null  object        \n",
      " 3   borough              37218 non-null  object        \n",
      " 4   location             53979 non-null  object        \n",
      " 5   on_street            43903 non-null  object        \n",
      " 6   cross_street         28615 non-null  object        \n",
      " 7   off_street           13771 non-null  object        \n",
      " 8   pedestrians_injured  57864 non-null  int64         \n",
      " 9   cyclist_injured      57864 non-null  int64         \n",
      " 10  motorist_injured     57864 non-null  int64         \n",
      " 11  total_injured        57864 non-null  float64       \n",
      " 12  pedestrians_killed   57864 non-null  int64         \n",
      " 13  cyclist_killed       57864 non-null  int64         \n",
      " 14  motorist_killed      57864 non-null  int64         \n",
      " 15  total_killed         57864 non-null  float64       \n",
      " 16  vehicle_1            57509 non-null  object        \n",
      " 17  vehicle_2            45602 non-null  object        \n",
      " 18  vehicle_3            3512 non-null   object        \n",
      " 19  vehicle_4            706 non-null    object        \n",
      " 20  vehicle_5            183 non-null    object        \n",
      " 21  cause_vehicle_1      45056 non-null  object        \n",
      " 22  cause_vehicle_2      8680 non-null   object        \n",
      " 23  cause_vehicle_3      264 non-null    object        \n",
      " 24  cause_vehicle_4      47 non-null     object        \n",
      " 25  cause_vehicle_5      9 non-null      object        \n",
      " 26  latitude             53963 non-null  float64       \n",
      " 27  longitude            53963 non-null  float64       \n",
      "dtypes: datetime64[ns](1), float64(4), int64(7), object(16)\n",
      "memory usage: 12.4+ MB\n"
     ]
    }
   ],
   "source": [
    "clean5=clean4\n",
    "clean5.info()\n",
    "# print(clean5[[\"latitude\", \"longitude\"]].isnull().sum())\n",
    "# print(\"\\n\")\n",
    "# print(clean5[[\"latitude\", \"longitude\"]].notnull().sum())"
   ]
  },
  {
   "cell_type": "markdown",
   "metadata": {},
   "source": [
    "i will drop columns that has more missing values than non-missing values\n"
   ]
  },
  {
   "cell_type": "code",
   "execution_count": 81,
   "metadata": {},
   "outputs": [],
   "source": [
    "refined=clean5.dropna(thresh=30000, axis=1) # the Non-Null values must be atleast 3000 in each column"
   ]
  },
  {
   "cell_type": "code",
   "execution_count": 82,
   "metadata": {},
   "outputs": [
    {
     "data": {
      "text/plain": [
       "unique_key             57864\n",
       "date                   57864\n",
       "time                   57864\n",
       "borough                37218\n",
       "location               53979\n",
       "on_street              43903\n",
       "pedestrians_injured    57864\n",
       "cyclist_injured        57864\n",
       "motorist_injured       57864\n",
       "total_injured          57864\n",
       "pedestrians_killed     57864\n",
       "cyclist_killed         57864\n",
       "motorist_killed        57864\n",
       "total_killed           57864\n",
       "vehicle_1              57509\n",
       "vehicle_2              45602\n",
       "cause_vehicle_1        45056\n",
       "latitude               53963\n",
       "longitude              53963\n",
       "dtype: int64"
      ]
     },
     "execution_count": 82,
     "metadata": {},
     "output_type": "execute_result"
    }
   ],
   "source": [
    "# to check the count of non-Null values in each column\n",
    "refined.notnull().sum()"
   ]
  },
  {
   "cell_type": "code",
   "execution_count": 83,
   "metadata": {},
   "outputs": [
    {
     "name": "stderr",
     "output_type": "stream",
     "text": [
      "C:\\Users\\HASSAN\\AppData\\Local\\Temp\\ipykernel_2744\\2406550579.py:2: SettingWithCopyWarning: \n",
      "A value is trying to be set on a copy of a slice from a DataFrame\n",
      "\n",
      "See the caveats in the documentation: https://pandas.pydata.org/pandas-docs/stable/user_guide/indexing.html#returning-a-view-versus-a-copy\n",
      "  refined.drop(columns=[\"location\"], inplace=True)\n"
     ]
    }
   ],
   "source": [
    "# i will also delete the location column because the longtitude and latitude can be used for better visualization and analysis\n",
    "refined.drop(columns=[\"location\"], inplace=True)"
   ]
  },
  {
   "cell_type": "code",
   "execution_count": 84,
   "metadata": {},
   "outputs": [
    {
     "data": {
      "text/html": [
       "<div>\n",
       "<style scoped>\n",
       "    .dataframe tbody tr th:only-of-type {\n",
       "        vertical-align: middle;\n",
       "    }\n",
       "\n",
       "    .dataframe tbody tr th {\n",
       "        vertical-align: top;\n",
       "    }\n",
       "\n",
       "    .dataframe thead th {\n",
       "        text-align: right;\n",
       "    }\n",
       "</style>\n",
       "<table border=\"1\" class=\"dataframe\">\n",
       "  <thead>\n",
       "    <tr style=\"text-align: right;\">\n",
       "      <th></th>\n",
       "      <th>unique_key</th>\n",
       "      <th>date</th>\n",
       "      <th>time</th>\n",
       "      <th>borough</th>\n",
       "      <th>on_street</th>\n",
       "      <th>pedestrians_injured</th>\n",
       "      <th>cyclist_injured</th>\n",
       "      <th>motorist_injured</th>\n",
       "      <th>total_injured</th>\n",
       "      <th>pedestrians_killed</th>\n",
       "      <th>cyclist_killed</th>\n",
       "      <th>motorist_killed</th>\n",
       "      <th>total_killed</th>\n",
       "      <th>vehicle_1</th>\n",
       "      <th>vehicle_2</th>\n",
       "      <th>cause_vehicle_1</th>\n",
       "      <th>latitude</th>\n",
       "      <th>longitude</th>\n",
       "    </tr>\n",
       "  </thead>\n",
       "  <tbody>\n",
       "    <tr>\n",
       "      <th>0</th>\n",
       "      <td>3869058</td>\n",
       "      <td>2018-03-23</td>\n",
       "      <td>21:40:00</td>\n",
       "      <td>MANHATTAN</td>\n",
       "      <td>WEST 15 STREET</td>\n",
       "      <td>0</td>\n",
       "      <td>0</td>\n",
       "      <td>0</td>\n",
       "      <td>0.0</td>\n",
       "      <td>0</td>\n",
       "      <td>0</td>\n",
       "      <td>0</td>\n",
       "      <td>0.0</td>\n",
       "      <td>PASSENGER VEHICLE</td>\n",
       "      <td>NaN</td>\n",
       "      <td>Following Too Closely</td>\n",
       "      <td>40.742832</td>\n",
       "      <td>-74.007710</td>\n",
       "    </tr>\n",
       "    <tr>\n",
       "      <th>1</th>\n",
       "      <td>3847947</td>\n",
       "      <td>2018-02-13</td>\n",
       "      <td>14:45:00</td>\n",
       "      <td>BROOKLYN</td>\n",
       "      <td>16 AVENUE</td>\n",
       "      <td>0</td>\n",
       "      <td>0</td>\n",
       "      <td>0</td>\n",
       "      <td>0.0</td>\n",
       "      <td>0</td>\n",
       "      <td>0</td>\n",
       "      <td>0</td>\n",
       "      <td>0.0</td>\n",
       "      <td>SPORT UTILITY / STATION WAGON</td>\n",
       "      <td>DS</td>\n",
       "      <td>Backing Unsafely</td>\n",
       "      <td>40.623714</td>\n",
       "      <td>-73.993140</td>\n",
       "    </tr>\n",
       "    <tr>\n",
       "      <th>2</th>\n",
       "      <td>3914294</td>\n",
       "      <td>2018-06-04</td>\n",
       "      <td>00:00:00</td>\n",
       "      <td>NaN</td>\n",
       "      <td>BELT PARKWAY</td>\n",
       "      <td>0</td>\n",
       "      <td>0</td>\n",
       "      <td>1</td>\n",
       "      <td>1.0</td>\n",
       "      <td>0</td>\n",
       "      <td>0</td>\n",
       "      <td>0</td>\n",
       "      <td>0.0</td>\n",
       "      <td>Station Wagon/Sport Utility Vehicle</td>\n",
       "      <td>Sedan</td>\n",
       "      <td>Following Too Closely</td>\n",
       "      <td>40.591755</td>\n",
       "      <td>-73.908300</td>\n",
       "    </tr>\n",
       "    <tr>\n",
       "      <th>3</th>\n",
       "      <td>3915069</td>\n",
       "      <td>2018-06-05</td>\n",
       "      <td>06:36:00</td>\n",
       "      <td>QUEENS</td>\n",
       "      <td>GRAND AVENUE</td>\n",
       "      <td>0</td>\n",
       "      <td>0</td>\n",
       "      <td>0</td>\n",
       "      <td>0.0</td>\n",
       "      <td>0</td>\n",
       "      <td>0</td>\n",
       "      <td>0</td>\n",
       "      <td>0.0</td>\n",
       "      <td>Sedan</td>\n",
       "      <td>Sedan</td>\n",
       "      <td>Glare</td>\n",
       "      <td>40.736020</td>\n",
       "      <td>-73.879540</td>\n",
       "    </tr>\n",
       "    <tr>\n",
       "      <th>4</th>\n",
       "      <td>3923123</td>\n",
       "      <td>2018-06-16</td>\n",
       "      <td>15:45:00</td>\n",
       "      <td>BRONX</td>\n",
       "      <td>NaN</td>\n",
       "      <td>0</td>\n",
       "      <td>0</td>\n",
       "      <td>0</td>\n",
       "      <td>0.0</td>\n",
       "      <td>0</td>\n",
       "      <td>0</td>\n",
       "      <td>0</td>\n",
       "      <td>0.0</td>\n",
       "      <td>Station Wagon/Sport Utility Vehicle</td>\n",
       "      <td>Sedan</td>\n",
       "      <td>Turning Improperly</td>\n",
       "      <td>40.884727</td>\n",
       "      <td>-73.899450</td>\n",
       "    </tr>\n",
       "    <tr>\n",
       "      <th>5</th>\n",
       "      <td>3987177</td>\n",
       "      <td>2018-09-14</td>\n",
       "      <td>11:50:00</td>\n",
       "      <td>NaN</td>\n",
       "      <td>EAST 93 STREET</td>\n",
       "      <td>0</td>\n",
       "      <td>0</td>\n",
       "      <td>0</td>\n",
       "      <td>0.0</td>\n",
       "      <td>0</td>\n",
       "      <td>0</td>\n",
       "      <td>0</td>\n",
       "      <td>0.0</td>\n",
       "      <td>Station Wagon/Sport Utility Vehicle</td>\n",
       "      <td>Box Truck</td>\n",
       "      <td>Driver Inattention/Distraction</td>\n",
       "      <td>40.785984</td>\n",
       "      <td>-73.957180</td>\n",
       "    </tr>\n",
       "    <tr>\n",
       "      <th>6</th>\n",
       "      <td>4008417</td>\n",
       "      <td>2018-10-19</td>\n",
       "      <td>11:00:00</td>\n",
       "      <td>QUEENS</td>\n",
       "      <td>54 AVENUE</td>\n",
       "      <td>0</td>\n",
       "      <td>0</td>\n",
       "      <td>0</td>\n",
       "      <td>0.0</td>\n",
       "      <td>0</td>\n",
       "      <td>0</td>\n",
       "      <td>0</td>\n",
       "      <td>0.0</td>\n",
       "      <td>Sedan</td>\n",
       "      <td>Sedan</td>\n",
       "      <td>NaN</td>\n",
       "      <td>40.731968</td>\n",
       "      <td>-73.923225</td>\n",
       "    </tr>\n",
       "    <tr>\n",
       "      <th>7</th>\n",
       "      <td>3917518</td>\n",
       "      <td>2018-06-05</td>\n",
       "      <td>10:00:00</td>\n",
       "      <td>NaN</td>\n",
       "      <td>3 AVENUE</td>\n",
       "      <td>0</td>\n",
       "      <td>0</td>\n",
       "      <td>0</td>\n",
       "      <td>0.0</td>\n",
       "      <td>0</td>\n",
       "      <td>0</td>\n",
       "      <td>0</td>\n",
       "      <td>0.0</td>\n",
       "      <td>Station Wagon/Sport Utility Vehicle</td>\n",
       "      <td>Station Wagon/Sport Utility Vehicle</td>\n",
       "      <td>NaN</td>\n",
       "      <td>40.660114</td>\n",
       "      <td>-74.001910</td>\n",
       "    </tr>\n",
       "    <tr>\n",
       "      <th>8</th>\n",
       "      <td>3953286</td>\n",
       "      <td>2018-08-03</td>\n",
       "      <td>22:30:00</td>\n",
       "      <td>QUEENS</td>\n",
       "      <td>NORTH CONDUIT AVENUE</td>\n",
       "      <td>0</td>\n",
       "      <td>0</td>\n",
       "      <td>3</td>\n",
       "      <td>3.0</td>\n",
       "      <td>0</td>\n",
       "      <td>0</td>\n",
       "      <td>0</td>\n",
       "      <td>0.0</td>\n",
       "      <td>Sedan</td>\n",
       "      <td>Station Wagon/Sport Utility Vehicle</td>\n",
       "      <td>NaN</td>\n",
       "      <td>40.666393</td>\n",
       "      <td>-73.751770</td>\n",
       "    </tr>\n",
       "    <tr>\n",
       "      <th>9</th>\n",
       "      <td>3896388</td>\n",
       "      <td>2018-05-08</td>\n",
       "      <td>08:40:00</td>\n",
       "      <td>QUEENS</td>\n",
       "      <td>218 STREET</td>\n",
       "      <td>0</td>\n",
       "      <td>0</td>\n",
       "      <td>0</td>\n",
       "      <td>0.0</td>\n",
       "      <td>0</td>\n",
       "      <td>0</td>\n",
       "      <td>0</td>\n",
       "      <td>0.0</td>\n",
       "      <td>SPORT UTILITY / STATION WAGON</td>\n",
       "      <td>NaN</td>\n",
       "      <td>NaN</td>\n",
       "      <td>40.715763</td>\n",
       "      <td>-73.737755</td>\n",
       "    </tr>\n",
       "  </tbody>\n",
       "</table>\n",
       "</div>"
      ],
      "text/plain": [
       "   unique_key       date      time    borough  \\\n",
       "0     3869058 2018-03-23  21:40:00  MANHATTAN   \n",
       "1     3847947 2018-02-13  14:45:00   BROOKLYN   \n",
       "2     3914294 2018-06-04  00:00:00        NaN   \n",
       "3     3915069 2018-06-05  06:36:00     QUEENS   \n",
       "4     3923123 2018-06-16  15:45:00      BRONX   \n",
       "5     3987177 2018-09-14  11:50:00        NaN   \n",
       "6     4008417 2018-10-19  11:00:00     QUEENS   \n",
       "7     3917518 2018-06-05  10:00:00        NaN   \n",
       "8     3953286 2018-08-03  22:30:00     QUEENS   \n",
       "9     3896388 2018-05-08  08:40:00     QUEENS   \n",
       "\n",
       "                          on_street  pedestrians_injured  cyclist_injured  \\\n",
       "0  WEST 15 STREET                                      0                0   \n",
       "1  16 AVENUE                                           0                0   \n",
       "2  BELT PARKWAY                                        0                0   \n",
       "3  GRAND AVENUE                                        0                0   \n",
       "4                               NaN                    0                0   \n",
       "5  EAST 93 STREET                                      0                0   \n",
       "6  54 AVENUE                                           0                0   \n",
       "7  3 AVENUE                                            0                0   \n",
       "8  NORTH CONDUIT AVENUE                                0                0   \n",
       "9  218 STREET                                          0                0   \n",
       "\n",
       "   motorist_injured  total_injured  pedestrians_killed  cyclist_killed  \\\n",
       "0                 0            0.0                   0               0   \n",
       "1                 0            0.0                   0               0   \n",
       "2                 1            1.0                   0               0   \n",
       "3                 0            0.0                   0               0   \n",
       "4                 0            0.0                   0               0   \n",
       "5                 0            0.0                   0               0   \n",
       "6                 0            0.0                   0               0   \n",
       "7                 0            0.0                   0               0   \n",
       "8                 3            3.0                   0               0   \n",
       "9                 0            0.0                   0               0   \n",
       "\n",
       "   motorist_killed  total_killed                            vehicle_1  \\\n",
       "0                0           0.0                    PASSENGER VEHICLE   \n",
       "1                0           0.0        SPORT UTILITY / STATION WAGON   \n",
       "2                0           0.0  Station Wagon/Sport Utility Vehicle   \n",
       "3                0           0.0                                Sedan   \n",
       "4                0           0.0  Station Wagon/Sport Utility Vehicle   \n",
       "5                0           0.0  Station Wagon/Sport Utility Vehicle   \n",
       "6                0           0.0                                Sedan   \n",
       "7                0           0.0  Station Wagon/Sport Utility Vehicle   \n",
       "8                0           0.0                                Sedan   \n",
       "9                0           0.0        SPORT UTILITY / STATION WAGON   \n",
       "\n",
       "                             vehicle_2                 cause_vehicle_1  \\\n",
       "0                                  NaN           Following Too Closely   \n",
       "1                                   DS                Backing Unsafely   \n",
       "2                                Sedan           Following Too Closely   \n",
       "3                                Sedan                           Glare   \n",
       "4                                Sedan              Turning Improperly   \n",
       "5                            Box Truck  Driver Inattention/Distraction   \n",
       "6                                Sedan                             NaN   \n",
       "7  Station Wagon/Sport Utility Vehicle                             NaN   \n",
       "8  Station Wagon/Sport Utility Vehicle                             NaN   \n",
       "9                                  NaN                             NaN   \n",
       "\n",
       "    latitude  longitude  \n",
       "0  40.742832 -74.007710  \n",
       "1  40.623714 -73.993140  \n",
       "2  40.591755 -73.908300  \n",
       "3  40.736020 -73.879540  \n",
       "4  40.884727 -73.899450  \n",
       "5  40.785984 -73.957180  \n",
       "6  40.731968 -73.923225  \n",
       "7  40.660114 -74.001910  \n",
       "8  40.666393 -73.751770  \n",
       "9  40.715763 -73.737755  "
      ]
     },
     "execution_count": 84,
     "metadata": {},
     "output_type": "execute_result"
    }
   ],
   "source": [
    "#refined.info()\n",
    "refined.head(10)"
   ]
  },
  {
   "cell_type": "markdown",
   "metadata": {},
   "source": [
    "                                                                        CONCLUSION AND RECOMMENDATION"
   ]
  },
  {
   "cell_type": "code",
   "execution_count": 86,
   "metadata": {},
   "outputs": [
    {
     "data": {
      "text/plain": [
       "Index(['unique_key', 'date', 'time', 'borough', 'on_street',\n",
       "       'pedestrians_injured', 'cyclist_injured', 'motorist_injured',\n",
       "       'total_injured', 'pedestrians_killed', 'cyclist_killed',\n",
       "       'motorist_killed', 'total_killed', 'vehicle_1', 'vehicle_2',\n",
       "       'cause_vehicle_1', 'latitude', 'longitude'],\n",
       "      dtype='object')"
      ]
     },
     "execution_count": 86,
     "metadata": {},
     "output_type": "execute_result"
    }
   ],
   "source": [
    "refined.columns"
   ]
  },
  {
   "cell_type": "code",
   "execution_count": 90,
   "metadata": {},
   "outputs": [
    {
     "name": "stdout",
     "output_type": "stream",
     "text": [
      "borough      20646\n",
      "on_street    13961\n",
      "latitude      3901\n",
      "longitude     3901\n",
      "dtype: int64\n",
      "\n",
      "\n",
      " total in percentage\n"
     ]
    },
    {
     "data": {
      "text/plain": [
       "borough      35.7\n",
       "on_street    24.1\n",
       "latitude      6.7\n",
       "longitude     6.7\n",
       "dtype: float64"
      ]
     },
     "execution_count": 90,
     "metadata": {},
     "output_type": "execute_result"
    }
   ],
   "source": [
    "geographic_info=refined[['borough', 'on_street','latitude', 'longitude']].copy()\n",
    "missing_vals=geographic_info.isnull().sum()\n",
    "print(geographic_info.isnull().sum())\n",
    "print(\"\\n\")\n",
    "print(\" total in percentage\")\n",
    "round(missing_vals/len(refined) * 100, 1)\n"
   ]
  },
  {
   "cell_type": "markdown",
   "metadata": {},
   "source": [
    "merely looking at the result, in the refined dataframe the most obvious issue is the large amount of missing values in few columns especially the geographical information columns (Borough and on_street).\n",
    "\n",
    "this problem can be solved using some special process such as using google api or using dummy data, whicj pose a threat to further analysis to be done.\n"
   ]
  },
  {
   "cell_type": "code",
   "execution_count": 85,
   "metadata": {},
   "outputs": [
    {
     "name": "stdout",
     "output_type": "stream",
     "text": [
      " you have successfully converted to csv\n"
     ]
    }
   ],
   "source": [
    "refined.to_csv(\"refined.csv\", index=False )\n",
    "print(\" you have successfully converted to csv\")"
   ]
  }
 ],
 "metadata": {
  "kernelspec": {
   "display_name": "Python 3",
   "language": "python",
   "name": "python3"
  },
  "language_info": {
   "codemirror_mode": {
    "name": "ipython",
    "version": 3
   },
   "file_extension": ".py",
   "mimetype": "text/x-python",
   "name": "python",
   "nbconvert_exporter": "python",
   "pygments_lexer": "ipython3",
   "version": "3.11.4"
  }
 },
 "nbformat": 4,
 "nbformat_minor": 2
}
